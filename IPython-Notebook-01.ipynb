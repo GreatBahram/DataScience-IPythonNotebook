{
 "cells": [
  {
   "cell_type": "markdown",
   "metadata": {},
   "source": [
    "# Setting up Python for a Data Scientist : IPython Notebook"
   ]
  },
  {
   "cell_type": "markdown",
   "metadata": {},
   "source": [
    "![IPython-Header](data/ipy-header.png)"
   ]
  },
  {
   "cell_type": "markdown",
   "metadata": {},
   "source": [
    "## Agenda\n",
    "* What is IPython interpretor and Jupyter Porject.\n",
    "* Introduce Markdown\n",
    "* How do I use IPython notebook.\n",
    "* Some Tricks and Tips"
   ]
  },
  {
   "cell_type": "markdown",
   "metadata": {},
   "source": [
    "## IPython\n",
    "IPython is an interactive python interpreter with some useful advantages:\n",
    "* \n",
    "* \n",
    "Site: \n",
    "\n",
    "## Jupyter Notebook\n",
    "The Jupyter Notebook is an open-source **web application** that allows you to create and share documents that **contain live code, equations, visualizations and narrative text**.\n",
    "* Why should I care about Jupyter notebook?\n"
   ]
  },
  {
   "cell_type": "markdown",
   "metadata": {},
   "source": [
    "## How to install them?\n",
    "**Option 1**: Profesional python developer.\n",
    "* By using python package manager(pip):\n",
    "\n",
    "**Option 2**: Just a scientist how use Python as well.\n",
    "* By installing Anaconda distribution of Python"
   ]
  },
  {
   "cell_type": "markdown",
   "metadata": {},
   "source": [
    "## Using IPython notebook"
   ]
  }
 ],
 "metadata": {
  "kernelspec": {
   "display_name": "Python 3",
   "language": "python",
   "name": "python3"
  },
  "language_info": {
   "codemirror_mode": {
    "name": "ipython",
    "version": 3
   },
   "file_extension": ".py",
   "mimetype": "text/x-python",
   "name": "python",
   "nbconvert_exporter": "python",
   "pygments_lexer": "ipython3",
   "version": "3.6.6"
  }
 },
 "nbformat": 4,
 "nbformat_minor": 2
}
