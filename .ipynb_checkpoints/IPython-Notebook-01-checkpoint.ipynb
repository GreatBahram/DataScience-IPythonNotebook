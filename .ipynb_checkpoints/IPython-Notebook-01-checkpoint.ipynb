{
 "cells": [
  {
   "cell_type": "markdown",
   "metadata": {},
   "source": [
    "# Setting up Python for a Data Scientist : IPython Notebook"
   ]
  },
  {
   "cell_type": "markdown",
   "metadata": {},
   "source": [
    "## Agenda\n",
    "* What is IPython interpretor and Jupyter Porject.\n",
    "* Introduce Markdown\n",
    "* How do I use IPython notebook.\n",
    "* Some Tricks and Tips"
   ]
  },
  {
   "cell_type": "markdown",
   "metadata": {},
   "source": [
    "## IPython\n",
    "![IPython-Header](data/ipy-header.png)\n",
    "\n",
    "IPython is consists of **two** parts:\n",
    "1. **IPython interpreter**: IPython is an interactive Python interpreter with rich features.\n",
    "1. **Web application** (Jupyter notebook) \n",
    "\n",
    "## Jupyter Notebook\n",
    "The Jupyter Notebook is an open-source **web application** that allows you to create and share documents that **contain live code, equations, visualizations and narrative text**.\n",
    "* Why should I care about Jupyter notebook? Since it really good for representing your work."
   ]
  },
  {
   "cell_type": "markdown",
   "metadata": {},
   "source": [
    "## Installation\n",
    "**Option 1**: Profesional python developer.\n",
    "* By using python package manager (pip) : *use virtual environment [article](https://virgool.io/Software/virtual-environtment-part1-ak29fabeelou)*\n",
    "   \n",
    "   `pip3 install ipython jupyter`\n",
    "\n",
    "**Option 2**: Just a scientist how use Python as well.\n",
    "* By installing [Anaconda](https://www.anaconda.com/download/#linux) distribution of Python"
   ]
  },
  {
   "cell_type": "markdown",
   "metadata": {},
   "source": [
    "## Using IPython notebook\n",
    "1. open your command-line and type `ipython notebook` or more accurately `jupyter notebook`"
   ]
  },
  {
   "cell_type": "markdown",
   "metadata": {},
   "source": [
    "## Keyboard shortcuts:\n",
    "* it looks like Vim I'm sure you know it, don't you?\n",
    "\n",
    "* What is a cell, and its different types (*Code* `y`, *Markdown* `m`). \n",
    "\n",
    "* What is command and insert mode\n",
    "\n",
    "* How to execute code: `Ctrl + Enter` and `Alt + Enter`\n",
    "\n",
    "* Insert cell `A`bove and `B`elow curernt cell\n",
    "\n",
    "* Show some markdown tags like heading and so on.\n",
    "\n",
    "* How to get help for shortcut keys `h` and temrinal `p`\n",
    "\n",
    "* How to property save and close an IPython notebook\n",
    "\n",
    "* How to see IPython notebook online [nbviewer](http://nbviewer.jupyter.org/)."
   ]
  },
  {
   "cell_type": "markdown",
   "metadata": {},
   "source": [
    "## Further reading\n",
    " * [Markdown Cheatsheet](https://github.com/adam-p/markdown-here/wiki/Markdown-Cheatsheet#links)"
   ]
  }
 ],
 "metadata": {
  "kernelspec": {
   "display_name": "Python 3",
   "language": "python",
   "name": "python3"
  },
  "language_info": {
   "codemirror_mode": {
    "name": "ipython",
    "version": 3
   },
   "file_extension": ".py",
   "mimetype": "text/x-python",
   "name": "python",
   "nbconvert_exporter": "python",
   "pygments_lexer": "ipython3",
   "version": "3.6.6"
  }
 },
 "nbformat": 4,
 "nbformat_minor": 2
}
